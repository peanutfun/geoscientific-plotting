{
 "cells": [
  {
   "cell_type": "markdown",
   "metadata": {},
   "source": [
    "# Geoscientific Plotting\n",
    "\n"
   ]
  },
  {
   "cell_type": "code",
   "execution_count": null,
   "metadata": {},
   "outputs": [],
   "source": [
    "# Some default settings\n",
    "import matplotlib.pyplot as plt\n",
    "\n",
    "plt.rcParams[\"figure.dpi\"] = 300\n",
    "plt.rcParams[\"figure.constrained_layout.use\"] = True\n"
   ]
  },
  {
   "cell_type": "markdown",
   "metadata": {},
   "source": [
    "## Plotting with Cartopy\n",
    "\n",
    "Let's plot a nice map of the Earth in a coordinate system of choice!\n",
    "\n",
    "Docs: https://scitools.org.uk/cartopy/docs/v0.21/index.html"
   ]
  },
  {
   "cell_type": "code",
   "execution_count": null,
   "metadata": {},
   "outputs": [],
   "source": [
    "import cartopy.crs as ccrs\n",
    "import matplotlib.pyplot as plt\n",
    "\n",
    "\n",
    "def create_maps(add_stock_img=True):\n",
    "    fig = plt.figure()\n",
    "\n",
    "    CRS = [\n",
    "        ccrs.PlateCarree(),\n",
    "        ccrs.Mollweide(),\n",
    "        ccrs.NearsidePerspective(central_longitude=-30, central_latitude=30),\n",
    "        ccrs.InterruptedGoodeHomolosine(),\n",
    "    ]\n",
    "    for idx, crs in enumerate(CRS):\n",
    "        ax = fig.add_subplot(2, 2, idx + 1, projection=crs)\n",
    "        ax.set_title(type(crs).__name__)\n",
    "        if add_stock_img:\n",
    "            ax.stock_img()\n",
    "\n",
    "    return fig\n",
    "\n",
    "\n",
    "fig = create_maps()\n"
   ]
  },
  {
   "cell_type": "code",
   "execution_count": null,
   "metadata": {},
   "outputs": [],
   "source": [
    "new_york = [40.71, -74.01]\n",
    "zurich = [47.37, 8.54]\n",
    "\n",
    "fig = create_maps()\n",
    "for ax in fig.axes:\n",
    "    ax.plot(\n",
    "        [new_york[1], zurich[1]],\n",
    "        [new_york[0], zurich[0]],\n",
    "        \"-k\",\n",
    "        transform=ccrs.PlateCarree(),\n",
    "    )\n",
    "    ax.plot(\n",
    "        [new_york[1], zurich[1]],\n",
    "        [new_york[0], zurich[0]],\n",
    "        \"-r\",\n",
    "        transform=ccrs.Geodetic(),\n",
    "    )\n"
   ]
  },
  {
   "cell_type": "markdown",
   "metadata": {},
   "source": [
    "Try out more of the cartopy features"
   ]
  },
  {
   "cell_type": "code",
   "execution_count": null,
   "metadata": {},
   "outputs": [],
   "source": [
    "import cartopy.feature as cfeature\n",
    "\n",
    "fig = create_maps(add_stock_img=False)\n",
    "axes = fig.axes\n",
    "\n",
    "# Plot coastlines and the lat/lon grid with labels\n",
    "axes[0].coastlines()\n",
    "axes[0].gridlines(draw_labels=True)\n",
    "\n",
    "# Chosse a map extent in lat/lon coordinates, plot features\n",
    "axes[1].set_extent([80, 170, -45, 30], crs=ccrs.PlateCarree())\n",
    "axes[1].add_feature(cfeature.LAND)\n",
    "axes[1].add_feature(cfeature.COASTLINE)\n",
    "axes[1].add_feature(cfeature.RIVERS)\n",
    "axes[1].add_feature(cfeature.LAKES)\n",
    "axes[1].gridlines(draw_labels=[\"y\"], y_inline=True)\n",
    "\n",
    "# Change scale and appearance of a feature\n",
    "axes[2].add_feature(\n",
    "    cfeature.COASTLINE.with_scale(\"50m\"), lw=0.5, edgecolor=\"black\", facecolor=\"none\"\n",
    ")\n",
    "\n",
    "# Download a particular feature from NaturalEarth\n",
    "borders = cfeature.NaturalEarthFeature(\"cultural\", \"admin_0_boundary_lines_land\", \"50m\")\n",
    "axes[2].add_feature(borders, lw=0.5, edgecolor=\"grey\", facecolor=\"none\")\n",
    "axes[2].add_feature(cfeature.OCEAN)\n",
    "\n",
    "# Projection emphasizing oceans\n",
    "fig.axes[3].remove()\n",
    "fig.axes[3] = fig.add_subplot(\n",
    "    2, 2, 4, projection=ccrs.InterruptedGoodeHomolosine(emphasis=\"ocean\")\n",
    ")\n",
    "fig.axes[3].add_feature(cfeature.OCEAN)\n"
   ]
  },
  {
   "cell_type": "markdown",
   "metadata": {},
   "source": [
    "## Plotting data with xarray and cartopy\n",
    "\n",
    "Open a geoscientific dataset with xarray.\n",
    "The dataset contains daily mean temperatures that were observed in Europe between 2011-01-01 and 2011-01-31.\n",
    "This data can be downloaded from the Copernicus Climate Data Store at https://cds.climate.copernicus.eu/cdsapp#!/dataset/insitu-gridded-observations-europe\n",
    "\n",
    "Docs: https://docs.xarray.dev/en/stable/"
   ]
  },
  {
   "cell_type": "code",
   "execution_count": null,
   "metadata": {},
   "outputs": [],
   "source": [
    "import xarray as xr\n",
    "\n",
    "ds = xr.open_dataset(\"tas_2011_01.nc\")\n",
    "ds\n"
   ]
  },
  {
   "cell_type": "markdown",
   "metadata": {},
   "source": [
    "Plotting this data naively with the xarray plotting facilities already looks quite reasonable."
   ]
  },
  {
   "cell_type": "code",
   "execution_count": null,
   "metadata": {},
   "outputs": [],
   "source": [
    "da = ds[\"tas\"].sel(time=\"2011-01-01\")\n",
    "da.plot()\n"
   ]
  },
  {
   "cell_type": "markdown",
   "metadata": {},
   "source": [
    "The quality of the plot changes quite drastically if the spatial dimensions of the dataset are changed.\n",
    "This just follows the matplotlib default settings: Each axis is extended until the figure pane is filled."
   ]
  },
  {
   "cell_type": "code",
   "execution_count": null,
   "metadata": {},
   "outputs": [],
   "source": [
    "da.sel(longitude=slice(0, 20)).plot()\n"
   ]
  },
  {
   "cell_type": "markdown",
   "metadata": {},
   "source": [
    "Cartopy fixes the aspect to the default for the chosen projection and removes the ticks and tick labels by default."
   ]
  },
  {
   "cell_type": "code",
   "execution_count": null,
   "metadata": {},
   "outputs": [],
   "source": [
    "fig, ax = plt.subplots(subplot_kw=dict(projection=ccrs.PlateCarree()))\n",
    "da.sel(longitude=slice(0, 20)).plot(ax=ax)\n",
    "ax.add_feature(cfeature.COASTLINE)\n"
   ]
  },
  {
   "cell_type": "markdown",
   "metadata": {},
   "source": [
    "Let's look at the data through different projections!"
   ]
  },
  {
   "cell_type": "code",
   "execution_count": null,
   "metadata": {},
   "outputs": [],
   "source": [
    "fig = plt.figure()\n",
    "\n",
    "CRS = [\n",
    "    ccrs.PlateCarree(),\n",
    "    ccrs.Miller(),\n",
    "    ccrs.Mercator(),\n",
    "    ccrs.EuroPP(),\n",
    "]\n",
    "for idx, crs in enumerate(CRS):\n",
    "    ax = fig.add_subplot(2, 2, idx + 1, projection=crs)\n",
    "\n",
    "    da.plot(ax=ax, add_colorbar=False, transform=ccrs.PlateCarree())\n",
    "    ax.set_title(type(crs).__name__)\n",
    "    ax.add_feature(cfeature.COASTLINE, lw=0.5)\n",
    "    ax.gridlines(draw_labels=[\"bottom\", \"left\"])\n"
   ]
  },
  {
   "cell_type": "markdown",
   "metadata": {},
   "source": [
    "## Plotting data with GeoPandas\n",
    "\n",
    "Although GeoPandas provides some plotting facilities, it takes a much more \"naive\" approach.\n",
    "While GeoPandas can transform geometries between different coordinate systems and projections, it always plots the data as is: There is no adjustment of matplotlib defaults and there are also no transformations (by default).\n",
    "The only exception: The figure aspect is set to `equal` if no transformation is applied to the data.\n",
    "\n",
    "Docs: https://geopandas.org/en/stable/\n",
    "\n",
    "Let's download some data for Luxembourg from GeoFabrik and plot it!"
   ]
  },
  {
   "cell_type": "code",
   "execution_count": null,
   "metadata": {},
   "outputs": [],
   "source": [
    "from pathlib import Path\n",
    "\n",
    "import osm_flex.download as dl\n",
    "import osm_flex.extract as ex\n",
    "\n",
    "# Download GeoFabrik data for Switzerland\n",
    "dl.get_country_geofabrik(\"LUX\", save_path=Path(\"./\"))\n",
    "\n",
    "# Extract main roads and railways\n",
    "data_path = Path(\"luxembourg-latest.osm.pbf\")\n",
    "lux_railway = ex.extract_cis(data_path, \"rail\").set_geometry(\"geometry\")\n",
    "lux_railway\n"
   ]
  },
  {
   "cell_type": "markdown",
   "metadata": {},
   "source": [
    "In GeoPandas, coordinate systems and projections are identified by their EPSG code.\n",
    "The most basic coordinate system is the WGS 84, a lat/lon system used by GPS.\n",
    "It's EPSG code is 4326.\n",
    "Most geospatial data is supplied in this system, and it's the same for the GeoFabrik data:"
   ]
  },
  {
   "cell_type": "code",
   "execution_count": null,
   "metadata": {},
   "outputs": [],
   "source": [
    "lux_railway.geometry.crs\n"
   ]
  },
  {
   "cell_type": "markdown",
   "metadata": {},
   "source": [
    "Let's plot the data. Note the nice aspect figure!"
   ]
  },
  {
   "cell_type": "code",
   "execution_count": null,
   "metadata": {},
   "outputs": [],
   "source": [
    "fig, ax = plt.subplots()\n",
    "lux_railway.loc[lux_railway[\"railway\"] == \"rail\"].geometry.plot(\n",
    "    ax=ax, color=\"C0\", label=\"Rails\", zorder=1\n",
    ")\n",
    "lux_railway.loc[lux_railway[\"railway\"] == \"station\"].geometry.plot(\n",
    "    ax=ax, color=\"C1\", label=\"Stations\", markersize=10, zorder=2\n",
    ")\n",
    "ax.legend()\n"
   ]
  },
  {
   "cell_type": "markdown",
   "metadata": {},
   "source": [
    "It is important to note that WGS 84 corresponds to the cartopy `PlateCarree` projection."
   ]
  },
  {
   "cell_type": "code",
   "execution_count": null,
   "metadata": {},
   "outputs": [],
   "source": [
    "proj = ccrs.Mercator()\n",
    "fig, ax = plt.subplots(subplot_kw=dict(projection=proj))\n",
    "\n",
    "lux_railway.loc[lux_railway[\"railway\"] == \"rail\"].geometry.plot(\n",
    "    ax=ax,\n",
    "    color=\"C0\",\n",
    "    label=\"Rails\",\n",
    "    zorder=1,\n",
    "    transform=ccrs.PlateCarree(),\n",
    "    aspect=None,\n",
    ")\n",
    "lux_railway.loc[lux_railway[\"railway\"] == \"station\"].geometry.plot(\n",
    "    ax=ax,\n",
    "    color=\"C1\",\n",
    "    label=\"Stations\",\n",
    "    markersize=10,\n",
    "    zorder=2,\n",
    "    transform=ccrs.PlateCarree(),\n",
    "    aspect=None,\n",
    ")\n",
    "ax.legend()\n",
    "ax.add_feature(cfeature.BORDERS.with_scale(\"10m\"))\n",
    "ax.gridlines(draw_labels=True, zorder=0)\n"
   ]
  },
  {
   "cell_type": "markdown",
   "metadata": {},
   "source": [
    "If you are unsure about the projection, you can simply transform the GeoPandas data by using the `proj4_params` attribute of the cartopy projection.\n",
    "\n",
    "Let's combine the railway data with the xarray data plot!"
   ]
  },
  {
   "cell_type": "code",
   "execution_count": null,
   "metadata": {},
   "outputs": [],
   "source": [
    "proj = ccrs.Miller()\n",
    "fig, ax = plt.subplots(subplot_kw=dict(projection=proj))\n",
    "\n",
    "lux_railway.loc[lux_railway[\"railway\"] == \"rail\"].geometry.to_crs(\n",
    "    proj.proj4_params\n",
    ").plot(\n",
    "    ax=ax,\n",
    "    color=\"k\",\n",
    "    label=\"Rails\",\n",
    "    zorder=1,\n",
    "    aspect=None,\n",
    ")\n",
    "lux_railway.loc[lux_railway[\"railway\"] == \"station\"].geometry.to_crs(\n",
    "    proj.proj4_params\n",
    ").plot(\n",
    "    ax=ax,\n",
    "    color=\"white\",\n",
    "    label=\"Stations\",\n",
    "    markersize=10,\n",
    "    edgecolor=\"black\",\n",
    "    zorder=2,\n",
    "    aspect=None,\n",
    ")\n",
    "\n",
    "# Retrieve current extent in PlateCarree projection (WGS 84)\n",
    "extent = ax.get_extent(crs=ccrs.PlateCarree())\n",
    "\n",
    "# Now plot temperature for that extent\n",
    "da.sel(\n",
    "    longitude=slice(extent[0], extent[1]), latitude=slice(extent[2], extent[3])\n",
    ").plot(ax=ax, transform=ccrs.PlateCarree(), zorder=0)\n",
    "\n",
    "ax.legend()\n",
    "ax.add_feature(cfeature.BORDERS.with_scale(\"10m\"))\n",
    "ax.gridlines(draw_labels=[\"left\", \"bottom\"], zorder=0)\n"
   ]
  },
  {
   "cell_type": "markdown",
   "metadata": {},
   "source": [
    "## Plotting Maps with contextily\n",
    "\n",
    "Contextily offers basemaps that can serve as better geographical reference than coordinates and country borders (alone).\n",
    "It works with the same projection definition as GeoPandas.\n",
    "\n",
    "Docs: https://contextily.readthedocs.io/"
   ]
  },
  {
   "cell_type": "code",
   "execution_count": null,
   "metadata": {},
   "outputs": [],
   "source": [
    "import contextily as ctx\n",
    "\n",
    "fig, ax = plt.subplots()\n",
    "\n",
    "\n",
    "lux_railway.loc[lux_railway[\"railway\"] == \"rail\"].geometry.plot(\n",
    "    ax=ax,\n",
    "    color=\"k\",\n",
    "    label=\"Rails\",\n",
    "    zorder=1,\n",
    ")\n",
    "lux_railway.loc[lux_railway[\"railway\"] == \"station\"].geometry.plot(\n",
    "    ax=ax,\n",
    "    color=\"white\",\n",
    "    label=\"Stations\",\n",
    "    markersize=10,\n",
    "    edgecolor=\"black\",\n",
    "    zorder=2,\n",
    ")\n",
    "\n",
    "ctx.add_basemap(ax=ax, source=ctx.providers.OpenStreetMap.Mapnik, crs=lux_railway.crs)\n",
    "ax.legend()\n"
   ]
  },
  {
   "cell_type": "markdown",
   "metadata": {},
   "source": [
    "This looks distorted, because maps typically use the Mercator projection, with is conformal and therefore preserves local shapes.\n",
    "The EPSG code of the Mercator projection is 3857.\n",
    "Transforming our data into this projection should make it look much better"
   ]
  },
  {
   "cell_type": "code",
   "execution_count": null,
   "metadata": {},
   "outputs": [],
   "source": [
    "fig, ax = plt.subplots()\n",
    "\n",
    "lux_railway_plot = lux_railway.to_crs(\"EPSG:3857\")  # Transform to Mercator\n",
    "lux_railway_plot.loc[lux_railway[\"railway\"] == \"rail\"].geometry.plot(\n",
    "    ax=ax,\n",
    "    color=\"k\",\n",
    "    label=\"Rails\",\n",
    "    zorder=1,\n",
    ")\n",
    "lux_railway_plot.loc[lux_railway[\"railway\"] == \"station\"].geometry.plot(\n",
    "    ax=ax,\n",
    "    color=\"white\",\n",
    "    label=\"Stations\",\n",
    "    markersize=10,\n",
    "    edgecolor=\"black\",\n",
    "    zorder=2,\n",
    ")\n",
    "ax.legend()\n",
    "\n",
    "ctx.add_basemap(\n",
    "    ax=ax, source=ctx.providers.OpenStreetMap.Mapnik, crs=lux_railway_plot.crs\n",
    ")\n"
   ]
  },
  {
   "cell_type": "markdown",
   "metadata": {},
   "source": [
    "The ticks are quite annoying.\n",
    "There are two ways to fix them: Remove the ticks from the axis, or use cartopy to set nice defaults instead."
   ]
  },
  {
   "cell_type": "code",
   "execution_count": null,
   "metadata": {},
   "outputs": [],
   "source": [
    "fig, ax = plt.subplots()\n",
    "\n",
    "lux_railway_plot = lux_railway.to_crs(\"EPSG:3857\")  # Transform to Mercator\n",
    "lux_railway_plot.loc[lux_railway_plot[\"railway\"] == \"rail\"].geometry.plot(\n",
    "    ax=ax,\n",
    "    color=\"k\",\n",
    "    label=\"Rails\",\n",
    "    zorder=1,\n",
    ")\n",
    "lux_railway_plot.loc[lux_railway_plot[\"railway\"] == \"station\"].geometry.plot(\n",
    "    ax=ax,\n",
    "    color=\"white\",\n",
    "    label=\"Stations\",\n",
    "    markersize=10,\n",
    "    edgecolor=\"black\",\n",
    "    zorder=2,\n",
    ")\n",
    "\n",
    "# CRS not strictly necessary because the map is in Mercator projection anyway\n",
    "ctx.add_basemap(\n",
    "    ax=ax, source=ctx.providers.OpenStreetMap.Mapnik, crs=lux_railway_plot.crs\n",
    ")\n",
    "ax.legend()\n",
    "\n",
    "# Remove ticks\n",
    "ax.tick_params(left=False, labelleft=False, bottom=False, labelbottom=False)\n"
   ]
  },
  {
   "cell_type": "markdown",
   "metadata": {},
   "source": [
    "Use a map with separate labels and less colors, this gives more opportunities for introducing color yourself"
   ]
  },
  {
   "cell_type": "code",
   "execution_count": null,
   "metadata": {},
   "outputs": [],
   "source": [
    "fig, ax = plt.subplots()\n",
    "\n",
    "lux_railway_plot = lux_railway.to_crs(\"EPSG:3857\")  # Transform to Mercator\n",
    "lux_railway_plot.loc[lux_railway_plot[\"railway\"] == \"rail\"].geometry.plot(\n",
    "    ax=ax,\n",
    "    color=\"C0\",\n",
    "    label=\"Rails\",\n",
    "    zorder=1,\n",
    ")\n",
    "lux_railway_plot.loc[lux_railway_plot[\"railway\"] == \"station\"].geometry.plot(\n",
    "    ax=ax,\n",
    "    color=\"C1\",\n",
    "    label=\"Stations\",\n",
    "    markersize=10,\n",
    "    zorder=2,\n",
    ")\n",
    "\n",
    "# CRS not strictly necessary because the map is in Mercator projection anyway\n",
    "ctx.add_basemap(\n",
    "    ax=ax, source=ctx.providers.CartoDB.PositronNoLabels, crs=lux_railway_plot.crs\n",
    ")\n",
    "ctx.add_basemap(\n",
    "    ax=ax, source=ctx.providers.CartoDB.PositronOnlyLabels, crs=lux_railway_plot.crs\n",
    ")\n",
    "ax.legend()\n",
    "\n",
    "# Remove ticks\n",
    "ax.tick_params(left=False, labelleft=False, bottom=False, labelbottom=False)\n"
   ]
  },
  {
   "cell_type": "markdown",
   "metadata": {},
   "source": [
    "Now let's combine cartopy, GeoPandas and contextily!"
   ]
  },
  {
   "cell_type": "code",
   "execution_count": null,
   "metadata": {},
   "outputs": [],
   "source": [
    "proj = ccrs.Mercator()\n",
    "fig, ax = plt.subplots(subplot_kw=dict(projection=proj))\n",
    "\n",
    "ax.set_xmargin(0.5)\n",
    "ax.set_ymargin(0.5)\n",
    "\n",
    "lux_railway_plot = lux_railway.to_crs(proj.proj4_params)  # Transform to Mercator\n",
    "lux_railway_plot.loc[lux_railway_plot[\"railway\"] == \"rail\"].geometry.plot(\n",
    "    ax=ax,\n",
    "    color=\"black\",\n",
    "    label=\"Rails\",\n",
    "    zorder=2,\n",
    "    aspect=None,\n",
    ")\n",
    "lux_railway_plot.loc[lux_railway_plot[\"railway\"] == \"station\"].geometry.plot(\n",
    "    ax=ax,\n",
    "    color=\"white\",\n",
    "    edgecolor=\"black\",\n",
    "    label=\"Stations\",\n",
    "    markersize=10,\n",
    "    zorder=3,\n",
    "    aspect=None,\n",
    ")\n",
    "extent = ax.get_extent(crs=ccrs.PlateCarree())\n",
    "\n",
    "# Now plot temperature for that extent\n",
    "da.sel(\n",
    "    longitude=slice(extent[0], extent[1]), latitude=slice(extent[2], extent[3])\n",
    ").plot.contourf(ax=ax, transform=ccrs.PlateCarree(), levels=10, alpha=0.4, zorder=1)\n",
    "\n",
    "# CRS not strictly necessary because the map is in Mercator projection anyway\n",
    "ctx.add_basemap(\n",
    "    ax=ax, source=ctx.providers.CartoDB.PositronNoLabels, crs=proj.proj4_params\n",
    ")\n",
    "ctx.add_basemap(\n",
    "    ax=ax, source=ctx.providers.CartoDB.PositronOnlyLabels, crs=proj.proj4_params\n",
    ")\n",
    "\n",
    "ax.legend()\n"
   ]
  }
 ],
 "metadata": {
  "kernelspec": {
   "display_name": "geoplot",
   "language": "python",
   "name": "python3"
  },
  "language_info": {
   "codemirror_mode": {
    "name": "ipython",
    "version": 3
   },
   "file_extension": ".py",
   "mimetype": "text/x-python",
   "name": "python",
   "nbconvert_exporter": "python",
   "pygments_lexer": "ipython3",
   "version": "3.11.6"
  }
 },
 "nbformat": 4,
 "nbformat_minor": 2
}
